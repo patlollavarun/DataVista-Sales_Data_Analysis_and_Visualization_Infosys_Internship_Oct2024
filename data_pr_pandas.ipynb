{
  "metadata": {
    "kernelspec": {
      "name": "python",
      "display_name": "Python (Pyodide)",
      "language": "python"
    },
    "language_info": {
      "codemirror_mode": {
        "name": "python",
        "version": 3
      },
      "file_extension": ".py",
      "mimetype": "text/x-python",
      "name": "python",
      "nbconvert_exporter": "python",
      "pygments_lexer": "ipython3",
      "version": "3.8"
    }
  },
  "nbformat_minor": 4,
  "nbformat": 4,
  "cells": [
    {
      "cell_type": "code",
      "source": "import pandas as pd\ndf = pd.read_csv('data.csv')\n#df = pd.read_excel('file.xlsx')\n#df = pd.read_json('file.json')",
      "metadata": {
        "trusted": true
      },
      "outputs": [],
      "execution_count": 4
    },
    {
      "cell_type": "code",
      "source": "df.head()",
      "metadata": {
        "trusted": true
      },
      "outputs": [
        {
          "execution_count": 5,
          "output_type": "execute_result",
          "data": {
            "text/plain": "    User ID country  Gender   Age   salary  Purchased\n0  15624510   India    Male  19.0  19000.0          0\n1  15810944     USA    Male  35.0      NaN          1\n2  15668575  France  Female  26.0  43000.0          0\n3  15603246     USA  Female   NaN  57000.0          0\n4  15804002  France    Male  19.0  76000.0          0",
            "text/html": "<div>\n<style scoped>\n    .dataframe tbody tr th:only-of-type {\n        vertical-align: middle;\n    }\n\n    .dataframe tbody tr th {\n        vertical-align: top;\n    }\n\n    .dataframe thead th {\n        text-align: right;\n    }\n</style>\n<table border=\"1\" class=\"dataframe\">\n  <thead>\n    <tr style=\"text-align: right;\">\n      <th></th>\n      <th>User ID</th>\n      <th>country</th>\n      <th>Gender</th>\n      <th>Age</th>\n      <th>salary</th>\n      <th>Purchased</th>\n    </tr>\n  </thead>\n  <tbody>\n    <tr>\n      <th>0</th>\n      <td>15624510</td>\n      <td>India</td>\n      <td>Male</td>\n      <td>19.0</td>\n      <td>19000.0</td>\n      <td>0</td>\n    </tr>\n    <tr>\n      <th>1</th>\n      <td>15810944</td>\n      <td>USA</td>\n      <td>Male</td>\n      <td>35.0</td>\n      <td>NaN</td>\n      <td>1</td>\n    </tr>\n    <tr>\n      <th>2</th>\n      <td>15668575</td>\n      <td>France</td>\n      <td>Female</td>\n      <td>26.0</td>\n      <td>43000.0</td>\n      <td>0</td>\n    </tr>\n    <tr>\n      <th>3</th>\n      <td>15603246</td>\n      <td>USA</td>\n      <td>Female</td>\n      <td>NaN</td>\n      <td>57000.0</td>\n      <td>0</td>\n    </tr>\n    <tr>\n      <th>4</th>\n      <td>15804002</td>\n      <td>France</td>\n      <td>Male</td>\n      <td>19.0</td>\n      <td>76000.0</td>\n      <td>0</td>\n    </tr>\n  </tbody>\n</table>\n</div>"
          },
          "metadata": {}
        }
      ],
      "execution_count": 5
    },
    {
      "cell_type": "code",
      "source": "import pandas as pd\n\n# Load the CSV file\ndf = pd.read_csv('data.csv')\n\n# Extract the headings (column names)\nheadings = df.columns.tolist()\n\n# Print the headings\nprint(\"Headings:\", headings)",
      "metadata": {
        "trusted": true
      },
      "outputs": [
        {
          "name": "stdout",
          "text": "Headings: ['User ID', 'country', 'Gender', 'Age', 'salary', 'Purchased']\n",
          "output_type": "stream"
        }
      ],
      "execution_count": 9
    },
    {
      "cell_type": "code",
      "source": "import pandas as pd\n\n# Load only the header row from the CSV\ndf = pd.read_csv('data.csv', nrows=0)\n\n# Extract the headings\nheadings = df.columns.tolist()\n\n# Print the headings\nprint(\"Headings:\", headings)",
      "metadata": {
        "trusted": true
      },
      "outputs": [
        {
          "name": "stdout",
          "text": "Headings: ['User ID', 'country', 'Gender', 'Age', 'salary', 'Purchased']\n",
          "output_type": "stream"
        }
      ],
      "execution_count": 11
    },
    {
      "cell_type": "code",
      "source": "import pandas as pd\n\n# Sample DataFrame\ndf = pd.DataFrame({\n    'OldName1': [1, 2, 3],\n    'OldName2': [4, 5, 6],\n    'OldName3': [7, 8, 9]\n})\n\n# Print original DataFrame\nprint(\"Original DataFrame:\")\nprint(df)\n\n# Rename all columns\ndf.columns = ['NewName1', 'NewName2', 'NewName3']\n\n# Print updated DataFrame\nprint(\"\\nDataFrame after renaming all columns:\")\nprint(df)",
      "metadata": {
        "trusted": true
      },
      "outputs": [
        {
          "name": "stdout",
          "text": "Original DataFrame:\n   OldName1  OldName2  OldName3\n0         1         4         7\n1         2         5         8\n2         3         6         9\n\nDataFrame after renaming all columns:\n   NewName1  NewName2  NewName3\n0         1         4         7\n1         2         5         8\n2         3         6         9\n",
          "output_type": "stream"
        }
      ],
      "execution_count": 12
    },
    {
      "cell_type": "code",
      "source": "import pandas as pd\nimport numpy as np\nfrom scipy import stats\n\n# Load data from a CSV file\ndf = pd.read_csv('data.csv')\n\n# Inspect the data\nprint(\"Original DataFrame:\")\nprint(df.head())\nprint(\"\\nDataFrame Info:\")\nprint(df.info())\nprint(\"\\nStatistical Summary:\")\nprint(df.describe())\n\n# Handling Missing Values\nprint(\"\\nMissing Values in Each Column:\")\nprint(df.isnull().sum())\n\n# Drop rows with any missing values (optional)\n# df_cleaned = df.dropna()\n\n# Fill missing values with a specific value (e.g., 0)\ndf.fillna(value=0, inplace=True)\n\n# Fill missing values with the mean of the column for a specific column\n# df['column_name'].fillna(df['column_name'].mean(), inplace=True)\n\n# Removing Duplicates\nprint(\"\\nNumber of Duplicate Rows:\", df.duplicated().sum())\ndf_cleaned = df.drop_duplicates()\n\n# Changing Data Types\n# Convert a column to a specific data type (e.g., integer)\n# df_cleaned['column_name'] = df_cleaned['column_name'].astype(int)\n\n# Convert a string column to datetime\n# df_cleaned['date_column'] = pd.to_datetime(df_cleaned['date_column'])\n\n# Renaming Columns\ndf_cleaned.rename(columns={'OldName': 'NewName'}, inplace=True)\n\n# Filtering Rows\n# Filter rows where 'column_name' > threshold_value\n# df_filtered = df_cleaned[df_cleaned['column_name'] > threshold_value]\n\n# Standardizing Text Data\n# Convert a text column to lowercase\ndf_cleaned['country'] = df_cleaned['country'].str.lower()\n# Remove leading and trailing whitespace\ndf_cleaned['country'] = df_cleaned['country'].str.strip()\n# Replace specific strings\n# df_cleaned['text_column'] = df_cleaned['text_column'].str.replace('old_value', 'new_value')\n\n# Binning Continuous Data\n# Bin a continuous variable into categories\n# bins = [0, 50, 100]\n# labels = ['Low', 'High']\n# df_cleaned['binned_column'] = pd.cut(df_cleaned['continuous_column'], bins=bins, labels=labels)\n\n# Outlier Detection and Removal\ndf_cleaned = df_cleaned[(np.abs(stats.zscore(df_cleaned['Age'])) < 3)]\n\n# Final Check\nprint(\"\\nCleaned DataFrame Info:\")\nprint(df_cleaned.info())\nprint(\"\\nCleaned DataFrame:\")\nprint(df_cleaned.head())\n\n# Export the cleaned DataFrame to a new CSV file\ndf_cleaned.to_csv('cleaned_data.csv', index=False)",
      "metadata": {
        "trusted": true
      },
      "outputs": [
        {
          "name": "stdout",
          "text": "Original DataFrame:\n    User ID country  Gender   Age   salary  Purchased\n0  15624510   India    Male  19.0  19000.0          0\n1  15810944     USA    Male  35.0      NaN          1\n2  15668575  France  Female  26.0  43000.0          0\n3  15603246     USA  Female   NaN  57000.0          0\n4  15804002  France    Male  19.0  76000.0          0\n\nDataFrame Info:\n<class 'pandas.core.frame.DataFrame'>\nRangeIndex: 20 entries, 0 to 19\nData columns (total 6 columns):\n #   Column     Non-Null Count  Dtype  \n---  ------     --------------  -----  \n 0   User ID    20 non-null     int64  \n 1   country    19 non-null     object \n 2   Gender     20 non-null     object \n 3   Age        17 non-null     float64\n 4   salary     19 non-null     float64\n 5   Purchased  20 non-null     int64  \ndtypes: float64(2), int64(2), object(2)\nmemory usage: 872.0+ bytes\nNone\n\nStatistical Summary:\n            User ID        Age         salary  Purchased\ncount  2.000000e+01  17.000000      19.000000  20.000000\nmean   1.567881e+07  29.529412   57368.421053   0.400000\nstd    6.987218e+04   9.348246   33128.052105   0.502625\nmin    1.557077e+07  18.000000   18000.000000   0.000000\n25%    1.561468e+07  25.000000   28000.000000   0.000000\n50%    1.569626e+07  27.000000   57000.000000   0.000000\n75%    1.572768e+07  35.000000   80000.000000   1.000000\nmax    1.581094e+07  47.000000  150000.000000   1.000000\n\nMissing Values in Each Column:\nUser ID      0\ncountry      1\nGender       0\nAge          3\nsalary       1\nPurchased    0\ndtype: int64\n\nNumber of Duplicate Rows: 0\n\nCleaned DataFrame Info:\n<class 'pandas.core.frame.DataFrame'>\nRangeIndex: 20 entries, 0 to 19\nData columns (total 6 columns):\n #   Column     Non-Null Count  Dtype  \n---  ------     --------------  -----  \n 0   User ID    20 non-null     int64  \n 1   country    19 non-null     object \n 2   Gender     20 non-null     object \n 3   Age        20 non-null     float64\n 4   salary     20 non-null     float64\n 5   Purchased  20 non-null     int64  \ndtypes: float64(2), int64(2), object(2)\nmemory usage: 872.0+ bytes\nNone\n\nCleaned DataFrame:\n    User ID country  Gender   Age   salary  Purchased\n0  15624510   india    Male  19.0  19000.0          0\n1  15810944     usa    Male  35.0      0.0          1\n2  15668575  france  Female  26.0  43000.0          0\n3  15603246     usa  Female   0.0  57000.0          0\n4  15804002  france    Male  19.0  76000.0          0\n",
          "output_type": "stream"
        }
      ],
      "execution_count": 2
    },
    {
      "cell_type": "code",
      "source": "#import os\n#import pandas as pd\n#import subprocess\n\n# Extract the CAB file using cabextract (available on Linux/Windows)\n#subprocess.run(['cabextract', 'path_to_file.cab', '-d', 'output_directory'])\n\n# Load extracted CSV into pandas DataFrame\n#df = pd.read_csv('output_directory/extracted_file.csv')\n\n# Inspect the data\n#print(df.head())\n#print(df.info())",
      "metadata": {
        "trusted": true
      },
      "outputs": [],
      "execution_count": null
    }
  ]
}